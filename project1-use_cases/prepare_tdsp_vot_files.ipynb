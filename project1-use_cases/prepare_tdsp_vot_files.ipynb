{
 "cells": [
  {
   "cell_type": "code",
   "execution_count": 1,
   "metadata": {},
   "outputs": [],
   "source": [
    "\n",
    "# description of file:\n",
    "import os\n",
    "import sys\n",
    "from pathlib import Path\n",
    "import csv\n",
    "import json\n",
    "import functools\n",
    "import multiprocessing.shared_memory as shm\n",
    "import multiprocessing as mp\n",
    "\n",
    "import numpy as np\n",
    "import pandas as pd\n",
    "import pickle\n",
    "\n",
    "sys.path.append(os.path.abspath(os.path.join(os.getcwd(), '..')))\n",
    "from nomad import conf\n",
    "from nomad import costs\n",
    "from nomad import shortest_path as sp\n",
    "import MNMAPI\n",
    "\n",
    "from nomad.costs.nodes import dynamic"
   ]
  },
  {
   "cell_type": "code",
   "execution_count": 2,
   "metadata": {},
   "outputs": [],
   "source": [
    "# Read in the supernetwork as an object\n",
    "graph_sn_path = Path().resolve() / 'graph_sn.pkl'\n",
    "with open(graph_sn_path, 'rb') as inp:\n",
    "    G_sn = pickle.load(inp)\n",
    "df_G = costs.edges.nx_to_df(G_sn).sort_values(by=['source','target','mode_type']).reset_index(drop=True)"
   ]
  },
  {
   "cell_type": "code",
   "execution_count": 3,
   "metadata": {},
   "outputs": [],
   "source": [
    "tdsp_folder = Path().resolve() / 'tdsp_files_sn'"
   ]
  },
  {
   "cell_type": "code",
   "execution_count": 4,
   "metadata": {},
   "outputs": [],
   "source": [
    "### Create graph file and get node/link IDs for subsequent use\n",
    "df_G = sp.prepare_graph_file(tdsp_folder, G_sn)\n",
    "nid_map = sp.get_nid_map(df_G)\n",
    "inv_nid_map = dict(zip(nid_map.values(), nid_map.keys()))\n",
    "linkID_map = sp.get_link_id_map(df_G)\n",
    "inv_linkID_map = dict(zip(linkID_map.values(), linkID_map.keys()))\n",
    "linkID_arr = df_G['linkID'].to_numpy().reshape((-1,1))"
   ]
  },
  {
   "cell_type": "code",
   "execution_count": 6,
   "metadata": {},
   "outputs": [],
   "source": [
    "# Get time-dep node costs\n",
    "df_node_cost_dynamic = costs.nodes.dynamic.get_node_cost_df(G_sn, conf.NUM_INTERVALS)\n",
    "\n",
    "### Create node files\n",
    "df_node_cost_dynamic[['node_id_from', 'node_id_via', 'node_id_to']] = df_node_cost_dynamic[['node_from', 'node_via', 'node_to']].applymap(lambda x: inv_nid_map[x]) \n",
    "df_node_cost_dynamic['link_in'] = tuple(zip(df_node_cost_dynamic['node_id_from'], df_node_cost_dynamic['node_id_via']))\n",
    "df_node_cost_dynamic['link_out'] = tuple(zip(df_node_cost_dynamic['node_id_via'], df_node_cost_dynamic['node_id_to']))\n",
    "df_node_cost_dynamic[['linkID_in', 'linkID_out']] = df_node_cost_dynamic[['link_in', 'link_out']].applymap(lambda x: inv_linkID_map[(nid_map[x[0]],nid_map[x[1]])])\n",
    "sp.prepare_node_files(tdsp_folder, df_node_cost_dynamic)"
   ]
  },
  {
   "cell_type": "code",
   "execution_count": 5,
   "metadata": {},
   "outputs": [],
   "source": [
    "# Parameters\n",
    "NUM_INTERVALS = conf.NUM_INTERVALS  \n",
    "interval_columns = [f'i{i}' for i in range(NUM_INTERVALS)]\n",
    "\n",
    "# Get all time-dep edge costs\n",
    "df_tt_dynamic, df_rel_dynamic, df_price_dynamic, df_risk_dynamic, df_disc_dynamic = costs.edges.dynamic.assign_edge_costs(G_sn)\n",
    "\n",
    "# Get time-dep node costs\n",
    "df_node_cost_dynamic = costs.nodes.dynamic.get_node_cost_df(G_sn, conf.NUM_INTERVALS)\n",
    "\n",
    "### Create node files\n",
    "df_node_cost_dynamic[['node_id_from', 'node_id_via', 'node_id_to']] = df_node_cost_dynamic[['node_from', 'node_via', 'node_to']].applymap(lambda x: inv_nid_map[x]) \n",
    "df_node_cost_dynamic['link_in'] = tuple(zip(df_node_cost_dynamic['node_id_from'], df_node_cost_dynamic['node_id_via']))\n",
    "df_node_cost_dynamic['link_out'] = tuple(zip(df_node_cost_dynamic['node_id_via'], df_node_cost_dynamic['node_id_to']))\n",
    "df_node_cost_dynamic[['linkID_in', 'linkID_out']] = df_node_cost_dynamic[['link_in', 'link_out']].applymap(lambda x: inv_linkID_map[(nid_map[x[0]],nid_map[x[1]])])\n",
    "sp.prepare_node_files(tdsp_folder, df_node_cost_dynamic)\n",
    "\n",
    "### Create tt files\n",
    "sp.prepare_tt_file(tdsp_folder, linkID_arr, df_tt_dynamic)\n"
   ]
  },
  {
   "cell_type": "code",
   "execution_count": 6,
   "metadata": {},
   "outputs": [
    {
     "data": {
      "text/plain": [
       "58"
      ]
     },
     "execution_count": 6,
     "metadata": {},
     "output_type": "execute_result"
    }
   ],
   "source": [
    "import gc\n",
    "### Prepare link cost files for different VOTs\n",
    "# beta weighting factors\n",
    "BETAS = {\n",
    "    'rel': 10/3600,\n",
    "    'x': 1,\n",
    "    'risk': 20,\n",
    "    'disc': 0}\n",
    "\n",
    "gtc_arr_no_time = BETAS['rel'] * df_rel_dynamic[interval_columns].values.astype(np.float16) + BETAS['x'] * df_price_dynamic[interval_columns].values.astype(np.float16) + BETAS['risk'] * df_risk_dynamic[interval_columns].values.astype(np.float16) + BETAS['disc'] * df_disc_dynamic[interval_columns].values.astype(np.float16)\n",
    "\n",
    "import gc\n",
    "del df_disc_dynamic, df_rel_dynamic, df_risk_dynamic, df_price_dynamic\n",
    "gc.collect()"
   ]
  },
  {
   "cell_type": "code",
   "execution_count": 7,
   "metadata": {},
   "outputs": [],
   "source": [
    "def init_shared_memory(array):\n",
    "    shm_array = shm.SharedMemory(create=True, size=array.nbytes)\n",
    "    shared_array = np.ndarray(array.shape, dtype=array.dtype, buffer=shm_array.buf)\n",
    "    np.copyto(shared_array, array)\n",
    "    return shm_array, array.shape, array.dtype\n",
    "\n",
    "shm_gtc_arr, gtc_shape, gtc_dtype = init_shared_memory(gtc_arr_no_time)\n",
    "shm_tt_arr, tt_shape, tt_dtype = init_shared_memory(df_tt_dynamic[interval_columns].values.astype(np.float16))"
   ]
  },
  {
   "cell_type": "code",
   "execution_count": 8,
   "metadata": {},
   "outputs": [],
   "source": [
    "def prepare_gtc_file_sensitivity(tdsp_folder, linkID_arr, shm_gtc_arr, gtc_shape, gtc_dtype, shm_tt_arr, tt_shape, tt_dtype, vot):\n",
    "    BETA_tt = vot/3600\n",
    "    #Prepare gtc file, which changes depending on vot\n",
    "    existing_shm_gtc = shm.SharedMemory(name=shm_gtc_arr.name)\n",
    "    gtc_arr_no_time = np.ndarray(gtc_shape, gtc_dtype, buffer=existing_shm_gtc.buf)\n",
    "    existing_shm_tt = shm.SharedMemory(name=shm_tt_arr.name)\n",
    "    tt_arr = np.ndarray(tt_shape, tt_dtype, buffer=existing_shm_tt.buf)\n",
    "    gtc_arr = gtc_arr_no_time + (BETA_tt * tt_arr)\n",
    "    filename = 'td_link_cost_' + str(vot)\n",
    "    sp.prepare_gtc_file(tdsp_folder, filename, linkID_arr, gtc_arr)\n",
    "\n",
    "    existing_shm_gtc.close()\n",
    "    existing_shm_tt.close()\n",
    "\n",
    "    print(vot, 'complete')\n",
    "\n",
    "linkID_arr = df_G['linkID'].to_numpy().reshape((-1,1))\n",
    "prepare_gtc_file_sensitivity_partial = functools.partial(prepare_gtc_file_sensitivity, tdsp_folder, linkID_arr, shm_gtc_arr, gtc_shape, gtc_dtype, shm_tt_arr, tt_shape, tt_dtype)"
   ]
  },
  {
   "cell_type": "code",
   "execution_count": 11,
   "metadata": {},
   "outputs": [
    {
     "name": "stdout",
     "output_type": "stream",
     "text": [
      "16 complete\n",
      "18 complete\n",
      "20 complete\n"
     ]
    }
   ],
   "source": [
    "# In parallel, create gtc files based on different VOTs\n",
    "vot_list = list(range(16,22,2))\n",
    "with mp.Pool(processes=mp.cpu_count()-1) as pool:\n",
    "    pool.map(prepare_gtc_file_sensitivity_partial, vot_list)"
   ]
  }
 ],
 "metadata": {
  "kernelspec": {
   "display_name": "py39",
   "language": "python",
   "name": "python3"
  },
  "language_info": {
   "codemirror_mode": {
    "name": "ipython",
    "version": 3
   },
   "file_extension": ".py",
   "mimetype": "text/x-python",
   "name": "python",
   "nbconvert_exporter": "python",
   "pygments_lexer": "ipython3",
   "version": "3.9.16 (main, Jan 11 2023, 16:05:54) \n[GCC 11.2.0]"
  },
  "orig_nbformat": 4,
  "vscode": {
   "interpreter": {
    "hash": "7c49d0ed03bc2eecec43a51e0c788ca54bec5ce4abfb5011225447e8c696cd58"
   }
  }
 },
 "nbformat": 4,
 "nbformat_minor": 2
}
