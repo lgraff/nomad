{
 "cells": [
  {
   "cell_type": "code",
   "execution_count": 2,
   "metadata": {},
   "outputs": [],
   "source": [
    "import sys, os\n",
    "from pathlib import Path\n",
    "import pickle\n",
    "import multiprocessing as mp\n",
    "import multiprocessing.shared_memory as shm\n",
    "\n",
    "import numpy as np\n",
    "import pandas as pd\n",
    "\n",
    "sys.path.append(os.path.abspath(os.path.join(os.getcwd(), '..')))\n",
    "from nomad import costs\n",
    "from nomad import conf\n",
    "from nomad import shortest_path as sp"
   ]
  },
  {
   "cell_type": "code",
   "execution_count": 3,
   "metadata": {},
   "outputs": [],
   "source": [
    "# Get params for MAC POSTS tdsp function\n",
    "tdsp_folder = Path().resolve() / 'tdsp_files_sn'"
   ]
  },
  {
   "cell_type": "code",
   "execution_count": 4,
   "metadata": {},
   "outputs": [],
   "source": [
    "# Read in the supernetwork as an object\n",
    "graph_sn_path = Path().resolve() / 'graphs' / 'graph_sn.pkl'\n",
    "with open(graph_sn_path, 'rb') as inp:\n",
    "    G_sn = pickle.load(inp)\n",
    "df_G = costs.edges.nx_to_df(G_sn).sort_values(by=['source','target','mode_type']).reset_index(drop=True)\n",
    "\n",
    "### Create graph file and get node/link IDs for subsequent use\n",
    "df_G = sp.prepare_graph_file(tdsp_folder, G_sn)\n",
    "nid_map = sp.get_nid_map(df_G)\n",
    "inv_nid_map = dict(zip(nid_map.values(), nid_map.keys()))\n",
    "linkID_map = sp.get_link_id_map(df_G)\n",
    "inv_linkID_map = dict(zip(linkID_map.values(), linkID_map.keys()))\n",
    "linkID_arr = df_G['linkID'].to_numpy().reshape((-1,1))"
   ]
  },
  {
   "cell_type": "code",
   "execution_count": 5,
   "metadata": {},
   "outputs": [],
   "source": [
    "# Get all time-dep edge costs\n",
    "df_tt_dynamic, df_rel_dynamic, df_price_dynamic, df_risk_dynamic, df_disc_dynamic = costs.edges.dynamic.assign_edge_costs(G_sn)"
   ]
  },
  {
   "cell_type": "code",
   "execution_count": 6,
   "metadata": {},
   "outputs": [],
   "source": [
    "# get the indices of scooter traversal links\n",
    "sc_trav_links = [link_id for named_link, link_id in inv_linkID_map.items() if named_link[0].startswith('sc') and named_link[1].startswith('sc')]"
   ]
  },
  {
   "cell_type": "code",
   "execution_count": 7,
   "metadata": {},
   "outputs": [],
   "source": [
    "# Parameters\n",
    "NUM_INTERVALS = conf.NUM_INTERVALS  \n",
    "interval_columns = [f'i{i}' for i in range(NUM_INTERVALS)]\n",
    "\n",
    "### Prepare link cost files for different VOTs\n",
    "# beta weighting factors\n",
    "vot = 10\n",
    "BETAS = {\n",
    "    'tt': vot/3600,\n",
    "    'rel': 10/3600,\n",
    "    'x': 1,\n",
    "    'risk': 20,\n",
    "    'disc': 0}\n",
    "\n",
    "gtc_arr_no_price = BETAS['rel'] * df_rel_dynamic[interval_columns].values.astype(np.float16) + BETAS['tt'] * df_tt_dynamic[interval_columns].values.astype(np.float16) + BETAS['risk'] * df_risk_dynamic[interval_columns].values.astype(np.float16) + BETAS['disc'] * df_disc_dynamic[interval_columns].values.astype(np.float16)"
   ]
  },
  {
   "cell_type": "code",
   "execution_count": 8,
   "metadata": {},
   "outputs": [],
   "source": [
    "for sc_ppmin in [0.09, 0.14, 0.19, 0.24, 0.29, 0.34]:\n",
    "    price_reduction_pct = (0.39 - sc_ppmin) / 0.39  # percent reduction in scoot link cost\n",
    "    price_arr = df_price_dynamic[interval_columns].values.astype(np.float16).copy() \n",
    "    price_arr[sc_trav_links,:] *= (1-price_reduction_pct) \n",
    "    gtc_arr = gtc_arr_no_price + price_arr\n",
    "    linkID_arr = df_G['linkID'].to_numpy().reshape((-1,1))\n",
    "    filename = 'td_link_cost_sc' + str(sc_ppmin)\n",
    "    sp.prepare_gtc_file(tdsp_folder, filename, linkID_arr, gtc_arr)"
   ]
  }
 ],
 "metadata": {
  "kernelspec": {
   "display_name": "py39",
   "language": "python",
   "name": "python3"
  },
  "language_info": {
   "codemirror_mode": {
    "name": "ipython",
    "version": 3
   },
   "file_extension": ".py",
   "mimetype": "text/x-python",
   "name": "python",
   "nbconvert_exporter": "python",
   "pygments_lexer": "ipython3",
   "version": "3.9.16 (main, Jan 11 2023, 16:05:54) \n[GCC 11.2.0]"
  },
  "vscode": {
   "interpreter": {
    "hash": "7c49d0ed03bc2eecec43a51e0c788ca54bec5ce4abfb5011225447e8c696cd58"
   }
  }
 },
 "nbformat": 4,
 "nbformat_minor": 2
}
